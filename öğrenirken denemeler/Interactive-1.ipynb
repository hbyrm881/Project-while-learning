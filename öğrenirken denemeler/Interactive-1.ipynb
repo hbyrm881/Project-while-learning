{
 "cells": [
  {
   "cell_type": "markdown",
   "metadata": {},
   "source": [
    "_Connecting to Python 3.13.0..._"
   ]
  },
  {
   "cell_type": "code",
   "execution_count": 4,
   "id": "c046d313-8bdd-4fb7-84ef-dee4f6156ebe",
   "metadata": {},
   "outputs": [
    {
     "ename": "ModuleNotFoundError",
     "evalue": "No module named 'PIL'",
     "output_type": "error",
     "traceback": [
      "\u001b[31m---------------------------------------------------------------------------\u001b[39m",
      "\u001b[31mModuleNotFoundError\u001b[39m                       Traceback (most recent call last)",
      "\u001b[36mCell\u001b[39m\u001b[36m \u001b[39m\u001b[32mIn[4]\u001b[39m\u001b[32m, line 2\u001b[39m\n\u001b[32m      1\u001b[39m \u001b[38;5;28;01mfrom\u001b[39;00m\u001b[38;5;250m \u001b[39m\u001b[34;01mtkinter\u001b[39;00m\u001b[38;5;250m \u001b[39m\u001b[38;5;28;01mimport\u001b[39;00m *\n\u001b[32m----> \u001b[39m\u001b[32m2\u001b[39m \u001b[38;5;28;01mfrom\u001b[39;00m\u001b[38;5;250m \u001b[39m\u001b[34;01mPIL\u001b[39;00m\u001b[38;5;250m \u001b[39m\u001b[38;5;28;01mimport\u001b[39;00m ImageTk,Image\n\u001b[32m      3\u001b[39m \u001b[38;5;28;01mimport\u001b[39;00m\u001b[38;5;250m \u001b[39m\u001b[34;01mrequests\u001b[39;00m\n\u001b[32m      5\u001b[39m url =  \u001b[33m'\u001b[39m\u001b[33mhttp://api.openweathermap.org/data/2.5/weather\u001b[39m\u001b[33m'\u001b[39m\n",
      "\u001b[31mModuleNotFoundError\u001b[39m: No module named 'PIL'"
     ]
    }
   ],
   "source": [
    "from tkinter import *\n",
    "from PIL import ImageTk,Image\n",
    "import requests\n",
    "\n",
    "url =  'http://api.openweathermap.org/data/2.5/weather'\n",
    "api_key = \"5c33d82ca694b40274abcffa9cca1fe1\"\n",
    "iconUrl = \"http://openweathermap.org/img/wn/{}@2x.png\"\n",
    "\n",
    "app = Tk()\n",
    "app.geometry(\"300x450\")\n",
    "app.title(\"KK Hava Durumu\")\n",
    "\n",
    "cityEntry = Entry(app,justify=\"center\")\n",
    "cityEntry.pack(fill=BOTH,ipady=10,padx=18,pady=5)\n",
    "cityEntry.focus()\n",
    "\n",
    "searchButton = Button(app,text=\"Arama\",font=(\"Arial\",15))\n",
    "searchButton.pack(fill=BOTH,ipady=10,padx=20)\n",
    "\n",
    "iconLabel = Label(app)\n",
    "iconLabel.pack()\n",
    "\n",
    "locationLabel = Label(app,font=(\"Arial\",48))\n",
    "locationLabel.pack()\n",
    "\n",
    "tempLabel = Label(app,font=(\"Arial\",50,\"bold\"))"
   ]
  }
 ],
 "metadata": {
  "kernelspec": {
   "display_name": "Python 3",
   "language": "python",
   "name": "python3"
  },
  "language_info": {
   "codemirror_mode": {
    "name": "ipython",
    "version": 3
   },
   "file_extension": ".py",
   "mimetype": "text/x-python",
   "name": "python",
   "nbconvert_exporter": "python",
   "pygments_lexer": "ipython3",
   "version": "3.13.0"
  }
 },
 "nbformat": 4,
 "nbformat_minor": 5
}
