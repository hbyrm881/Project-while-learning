{
 "cells": [
  {
   "cell_type": "code",
   "execution_count": 5,
   "id": "67ca648b-bafd-4220-b112-8eb637586c24",
   "metadata": {},
   "outputs": [],
   "source": [
    "import pandas as pd "
   ]
  },
  {
   "cell_type": "code",
   "execution_count": 6,
   "id": "fc0ba1c6-870e-4a46-8e4a-b867985f7be4",
   "metadata": {},
   "outputs": [
    {
     "name": "stdout",
     "output_type": "stream",
     "text": [
      "hi\n"
     ]
    }
   ],
   "source": [
    "print(\"hi\")"
   ]
  },
  {
   "cell_type": "code",
   "execution_count": 15,
   "id": "d3377ad6-e59d-47fa-9766-8e956ad11f9b",
   "metadata": {},
   "outputs": [],
   "source": [
    "students = [{\"Ad\":\"Hasan\",\"Soyad\":\"Bayram\",\"Gmail\":\"hasan@gmail.com\"}, {\"Ad\":\"Yusuf\",\"Soyad\":\"Kaya\",\"Gmail\":\"yusuf@gmail.com\"} ]"
   ]
  },
  {
   "cell_type": "code",
   "execution_count": 16,
   "id": "ef9d8694-e357-4f35-9b45-674abd1eeb4a",
   "metadata": {},
   "outputs": [
    {
     "data": {
      "text/plain": [
       "[{'Ad': 'Hasan', 'Soyad': 'Bayram', 'Gmail': 'hasan@gmail.com'},\n",
       " {'Ad': 'Yusuf', 'Soyad': 'Kaya', 'Gmail': 'yusuf@gmail.com'}]"
      ]
     },
     "execution_count": 16,
     "metadata": {},
     "output_type": "execute_result"
    }
   ],
   "source": [
    "students"
   ]
  },
  {
   "cell_type": "code",
   "execution_count": 17,
   "id": "b3c71bfe-d030-4d05-92c9-92fca85ad3e8",
   "metadata": {},
   "outputs": [],
   "source": [
    "df = pd.DataFrame(students)"
   ]
  },
  {
   "cell_type": "code",
   "execution_count": 19,
   "id": "7d42f937-49e5-43a3-aeac-aa08bb81ce88",
   "metadata": {},
   "outputs": [
    {
     "data": {
      "text/html": [
       "<div>\n",
       "<style scoped>\n",
       "    .dataframe tbody tr th:only-of-type {\n",
       "        vertical-align: middle;\n",
       "    }\n",
       "\n",
       "    .dataframe tbody tr th {\n",
       "        vertical-align: top;\n",
       "    }\n",
       "\n",
       "    .dataframe thead th {\n",
       "        text-align: right;\n",
       "    }\n",
       "</style>\n",
       "<table border=\"1\" class=\"dataframe\">\n",
       "  <thead>\n",
       "    <tr style=\"text-align: right;\">\n",
       "      <th></th>\n",
       "      <th>Ad</th>\n",
       "      <th>Soyad</th>\n",
       "      <th>Gmail</th>\n",
       "    </tr>\n",
       "  </thead>\n",
       "  <tbody>\n",
       "    <tr>\n",
       "      <th>0</th>\n",
       "      <td>Hasan</td>\n",
       "      <td>Bayram</td>\n",
       "      <td>hasan@gmail.com</td>\n",
       "    </tr>\n",
       "    <tr>\n",
       "      <th>1</th>\n",
       "      <td>Yusuf</td>\n",
       "      <td>Kaya</td>\n",
       "      <td>yusuf@gmail.com</td>\n",
       "    </tr>\n",
       "  </tbody>\n",
       "</table>\n",
       "</div>"
      ],
      "text/plain": [
       "      Ad   Soyad            Gmail\n",
       "0  Hasan  Bayram  hasan@gmail.com\n",
       "1  Yusuf    Kaya  yusuf@gmail.com"
      ]
     },
     "execution_count": 19,
     "metadata": {},
     "output_type": "execute_result"
    }
   ],
   "source": [
    "df"
   ]
  },
  {
   "cell_type": "code",
   "execution_count": 20,
   "id": "f15093fb-c9d3-47a0-9d16-d6469ac90fe1",
   "metadata": {},
   "outputs": [],
   "source": [
    "students = {\n",
    "    \"Ad\":(\"Hasan\",\"Mehmet\",\"Ayşe\"),\n",
    "    \"Soyad\":(\"Bayram\",\"Şimşek\",\"Yılmaz\")\n",
    "}"
   ]
  },
  {
   "cell_type": "code",
   "execution_count": 21,
   "id": "01cfbc4b-5425-41b3-9d95-0da230420512",
   "metadata": {},
   "outputs": [
    {
     "data": {
      "text/plain": [
       "{'Ad': ('Hasan', 'Mehmet', 'Ayşe'), 'Soyad': ('Bayram', 'Şimşek', 'Yılmaz')}"
      ]
     },
     "execution_count": 21,
     "metadata": {},
     "output_type": "execute_result"
    }
   ],
   "source": [
    "students"
   ]
  },
  {
   "cell_type": "code",
   "execution_count": 22,
   "id": "2c78e400-0f0c-4057-855b-e0530f54a299",
   "metadata": {},
   "outputs": [],
   "source": [
    "df = pd.DataFrame(students)"
   ]
  },
  {
   "cell_type": "code",
   "execution_count": 27,
   "id": "b1ae8f82-31bb-4a67-a250-e4ef5e179dc0",
   "metadata": {},
   "outputs": [
    {
     "data": {
      "text/html": [
       "<div>\n",
       "<style scoped>\n",
       "    .dataframe tbody tr th:only-of-type {\n",
       "        vertical-align: middle;\n",
       "    }\n",
       "\n",
       "    .dataframe tbody tr th {\n",
       "        vertical-align: top;\n",
       "    }\n",
       "\n",
       "    .dataframe thead th {\n",
       "        text-align: right;\n",
       "    }\n",
       "</style>\n",
       "<table border=\"1\" class=\"dataframe\">\n",
       "  <thead>\n",
       "    <tr style=\"text-align: right;\">\n",
       "      <th></th>\n",
       "      <th>Ad</th>\n",
       "      <th>Soyad</th>\n",
       "    </tr>\n",
       "  </thead>\n",
       "  <tbody>\n",
       "    <tr>\n",
       "      <th>0</th>\n",
       "      <td>Hasan</td>\n",
       "      <td>Bayram</td>\n",
       "    </tr>\n",
       "    <tr>\n",
       "      <th>1</th>\n",
       "      <td>Mehmet</td>\n",
       "      <td>Şimşek</td>\n",
       "    </tr>\n",
       "    <tr>\n",
       "      <th>2</th>\n",
       "      <td>Ayşe</td>\n",
       "      <td>Yılmaz</td>\n",
       "    </tr>\n",
       "  </tbody>\n",
       "</table>\n",
       "</div>"
      ],
      "text/plain": [
       "       Ad   Soyad\n",
       "0   Hasan  Bayram\n",
       "1  Mehmet  Şimşek\n",
       "2    Ayşe  Yılmaz"
      ]
     },
     "execution_count": 27,
     "metadata": {},
     "output_type": "execute_result"
    }
   ],
   "source": [
    "df"
   ]
  },
  {
   "cell_type": "code",
   "execution_count": 29,
   "id": "19318911-c0b5-4d3b-9795-c02a5ba35283",
   "metadata": {
    "editable": true,
    "slideshow": {
     "slide_type": ""
    },
    "tags": []
   },
   "outputs": [
    {
     "data": {
      "text/plain": [
       "0     Hasan\n",
       "1    Mehmet\n",
       "2      Ayşe\n",
       "Name: Ad, dtype: object"
      ]
     },
     "execution_count": 29,
     "metadata": {},
     "output_type": "execute_result"
    }
   ],
   "source": [
    "df[\"Ad\"]"
   ]
  },
  {
   "cell_type": "code",
   "execution_count": 32,
   "id": "7aa71c6f-c5c4-4ed0-a81e-0d475adedb65",
   "metadata": {},
   "outputs": [
    {
     "data": {
      "text/plain": [
       "pandas.core.series.Series"
      ]
     },
     "execution_count": 32,
     "metadata": {},
     "output_type": "execute_result"
    }
   ],
   "source": [
    "type(df[\"Soyad\"])"
   ]
  },
  {
   "cell_type": "code",
   "execution_count": 33,
   "id": "a817ff89-e016-4ef5-8e8f-fa41f2e48f5a",
   "metadata": {},
   "outputs": [
    {
     "data": {
      "text/plain": [
       "0     Hasan\n",
       "1    Mehmet\n",
       "2      Ayşe\n",
       "Name: Ad, dtype: object"
      ]
     },
     "execution_count": 33,
     "metadata": {},
     "output_type": "execute_result"
    }
   ],
   "source": [
    "df.Ad\n"
   ]
  },
  {
   "cell_type": "code",
   "execution_count": 37,
   "id": "4883ac4f-5d8b-4774-a73d-08b17b1b2470",
   "metadata": {},
   "outputs": [
    {
     "data": {
      "text/plain": [
       "Index(['Ad', 'Soyad'], dtype='object')"
      ]
     },
     "execution_count": 37,
     "metadata": {},
     "output_type": "execute_result"
    }
   ],
   "source": [
    "df.columns\n"
   ]
  },
  {
   "cell_type": "code",
   "execution_count": null,
   "id": "87e51959-26a0-4715-ac60-72f62086930b",
   "metadata": {},
   "outputs": [],
   "source": []
  }
 ],
 "metadata": {
  "kernelspec": {
   "display_name": "Python 3 (ipykernel)",
   "language": "python",
   "name": "python3"
  },
  "language_info": {
   "codemirror_mode": {
    "name": "ipython",
    "version": 3
   },
   "file_extension": ".py",
   "mimetype": "text/x-python",
   "name": "python",
   "nbconvert_exporter": "python",
   "pygments_lexer": "ipython3",
   "version": "3.13.0"
  }
 },
 "nbformat": 4,
 "nbformat_minor": 5
}
